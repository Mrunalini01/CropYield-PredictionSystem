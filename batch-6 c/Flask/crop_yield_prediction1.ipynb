{
 "cells": [
  {
   "cell_type": "code",
   "execution_count": 100,
   "metadata": {},
   "outputs": [
    {
     "data": {
      "text/plain": [
       "(1328, 8)"
      ]
     },
     "execution_count": 100,
     "metadata": {},
     "output_type": "execute_result"
    }
   ],
   "source": [
    "import numpy as np \n",
    "import pandas as pd\n",
    "df_yield = pd.read_csv(r\"C:\\Users\\Ushasini\\Desktop\\b6\\Maharastra crop data.csv\")\n",
    "df_yield.shape"
   ]
  },
  {
   "cell_type": "code",
   "execution_count": 101,
   "metadata": {},
   "outputs": [
    {
     "data": {
      "text/html": [
       "<div>\n",
       "<style scoped>\n",
       "    .dataframe tbody tr th:only-of-type {\n",
       "        vertical-align: middle;\n",
       "    }\n",
       "\n",
       "    .dataframe tbody tr th {\n",
       "        vertical-align: top;\n",
       "    }\n",
       "\n",
       "    .dataframe thead th {\n",
       "        text-align: right;\n",
       "    }\n",
       "</style>\n",
       "<table border=\"1\" class=\"dataframe\">\n",
       "  <thead>\n",
       "    <tr style=\"text-align: right;\">\n",
       "      <th></th>\n",
       "      <th>State_Name</th>\n",
       "      <th>District</th>\n",
       "      <th>Crop</th>\n",
       "      <th>Season</th>\n",
       "      <th>Area</th>\n",
       "      <th>Rainfall</th>\n",
       "      <th>Temperature</th>\n",
       "      <th>Yield</th>\n",
       "    </tr>\n",
       "  </thead>\n",
       "  <tbody>\n",
       "    <tr>\n",
       "      <th>0</th>\n",
       "      <td>Maharashtra</td>\n",
       "      <td>AHMEDNAGAR</td>\n",
       "      <td>Jowar</td>\n",
       "      <td>Rabi</td>\n",
       "      <td>598400</td>\n",
       "      <td>42.3484</td>\n",
       "      <td>24.2430</td>\n",
       "      <td>217000</td>\n",
       "    </tr>\n",
       "    <tr>\n",
       "      <th>1</th>\n",
       "      <td>Maharashtra</td>\n",
       "      <td>AHMEDNAGAR</td>\n",
       "      <td>Jowar</td>\n",
       "      <td>Rabi</td>\n",
       "      <td>453200</td>\n",
       "      <td>8.7838</td>\n",
       "      <td>23.1000</td>\n",
       "      <td>227900</td>\n",
       "    </tr>\n",
       "    <tr>\n",
       "      <th>2</th>\n",
       "      <td>Maharashtra</td>\n",
       "      <td>AHMEDNAGAR</td>\n",
       "      <td>Jowar</td>\n",
       "      <td>Rabi</td>\n",
       "      <td>498300</td>\n",
       "      <td>39.5078</td>\n",
       "      <td>22.8118</td>\n",
       "      <td>190900</td>\n",
       "    </tr>\n",
       "    <tr>\n",
       "      <th>3</th>\n",
       "      <td>Maharashtra</td>\n",
       "      <td>AHMEDNAGAR</td>\n",
       "      <td>Jowar</td>\n",
       "      <td>Rabi</td>\n",
       "      <td>518700</td>\n",
       "      <td>9.2558</td>\n",
       "      <td>23.2746</td>\n",
       "      <td>160800</td>\n",
       "    </tr>\n",
       "    <tr>\n",
       "      <th>4</th>\n",
       "      <td>Maharashtra</td>\n",
       "      <td>AHMEDNAGAR</td>\n",
       "      <td>Jowar</td>\n",
       "      <td>Rabi</td>\n",
       "      <td>528900</td>\n",
       "      <td>4.0668</td>\n",
       "      <td>23.5674</td>\n",
       "      <td>175000</td>\n",
       "    </tr>\n",
       "  </tbody>\n",
       "</table>\n",
       "</div>"
      ],
      "text/plain": [
       "    State_Name    District   Crop Season    Area  Rainfall  Temperature  \\\n",
       "0  Maharashtra  AHMEDNAGAR  Jowar   Rabi  598400   42.3484      24.2430   \n",
       "1  Maharashtra  AHMEDNAGAR  Jowar   Rabi  453200    8.7838      23.1000   \n",
       "2  Maharashtra  AHMEDNAGAR  Jowar   Rabi  498300   39.5078      22.8118   \n",
       "3  Maharashtra  AHMEDNAGAR  Jowar   Rabi  518700    9.2558      23.2746   \n",
       "4  Maharashtra  AHMEDNAGAR  Jowar   Rabi  528900    4.0668      23.5674   \n",
       "\n",
       "    Yield  \n",
       "0  217000  \n",
       "1  227900  \n",
       "2  190900  \n",
       "3  160800  \n",
       "4  175000  "
      ]
     },
     "execution_count": 101,
     "metadata": {},
     "output_type": "execute_result"
    }
   ],
   "source": [
    "df_yield.head()"
   ]
  },
  {
   "cell_type": "code",
   "execution_count": 102,
   "metadata": {},
   "outputs": [
    {
     "data": {
      "text/html": [
       "<div>\n",
       "<style scoped>\n",
       "    .dataframe tbody tr th:only-of-type {\n",
       "        vertical-align: middle;\n",
       "    }\n",
       "\n",
       "    .dataframe tbody tr th {\n",
       "        vertical-align: top;\n",
       "    }\n",
       "\n",
       "    .dataframe thead th {\n",
       "        text-align: right;\n",
       "    }\n",
       "</style>\n",
       "<table border=\"1\" class=\"dataframe\">\n",
       "  <thead>\n",
       "    <tr style=\"text-align: right;\">\n",
       "      <th></th>\n",
       "      <th>State_Name</th>\n",
       "      <th>District</th>\n",
       "      <th>Crop</th>\n",
       "      <th>Season</th>\n",
       "      <th>Area</th>\n",
       "      <th>Rainfall</th>\n",
       "      <th>Temperature</th>\n",
       "      <th>Yield</th>\n",
       "    </tr>\n",
       "  </thead>\n",
       "  <tbody>\n",
       "    <tr>\n",
       "      <th>1323</th>\n",
       "      <td>Maharashtra</td>\n",
       "      <td>YAVATMAL</td>\n",
       "      <td>Wheat</td>\n",
       "      <td>Rabi</td>\n",
       "      <td>41700</td>\n",
       "      <td>27.4774</td>\n",
       "      <td>24.58152</td>\n",
       "      <td>61400</td>\n",
       "    </tr>\n",
       "    <tr>\n",
       "      <th>1324</th>\n",
       "      <td>Maharashtra</td>\n",
       "      <td>YAVATMAL</td>\n",
       "      <td>Wheat</td>\n",
       "      <td>Rabi</td>\n",
       "      <td>34100</td>\n",
       "      <td>23.9894</td>\n",
       "      <td>24.68200</td>\n",
       "      <td>58500</td>\n",
       "    </tr>\n",
       "    <tr>\n",
       "      <th>1325</th>\n",
       "      <td>Maharashtra</td>\n",
       "      <td>YAVATMAL</td>\n",
       "      <td>Wheat</td>\n",
       "      <td>Rabi</td>\n",
       "      <td>36100</td>\n",
       "      <td>23.9894</td>\n",
       "      <td>24.78900</td>\n",
       "      <td>64600</td>\n",
       "    </tr>\n",
       "    <tr>\n",
       "      <th>1326</th>\n",
       "      <td>Maharashtra</td>\n",
       "      <td>YAVATMAL</td>\n",
       "      <td>Wheat</td>\n",
       "      <td>Rabi</td>\n",
       "      <td>34500</td>\n",
       "      <td>3.5930</td>\n",
       "      <td>24.85400</td>\n",
       "      <td>30700</td>\n",
       "    </tr>\n",
       "    <tr>\n",
       "      <th>1327</th>\n",
       "      <td>Maharashtra</td>\n",
       "      <td>YAVATMAL</td>\n",
       "      <td>Wheat</td>\n",
       "      <td>Rabi</td>\n",
       "      <td>29100</td>\n",
       "      <td>17.4454</td>\n",
       "      <td>24.64700</td>\n",
       "      <td>26800</td>\n",
       "    </tr>\n",
       "  </tbody>\n",
       "</table>\n",
       "</div>"
      ],
      "text/plain": [
       "       State_Name  District   Crop Season   Area  Rainfall  Temperature  Yield\n",
       "1323  Maharashtra  YAVATMAL  Wheat   Rabi  41700   27.4774     24.58152  61400\n",
       "1324  Maharashtra  YAVATMAL  Wheat   Rabi  34100   23.9894     24.68200  58500\n",
       "1325  Maharashtra  YAVATMAL  Wheat   Rabi  36100   23.9894     24.78900  64600\n",
       "1326  Maharashtra  YAVATMAL  Wheat   Rabi  34500    3.5930     24.85400  30700\n",
       "1327  Maharashtra  YAVATMAL  Wheat   Rabi  29100   17.4454     24.64700  26800"
      ]
     },
     "execution_count": 102,
     "metadata": {},
     "output_type": "execute_result"
    }
   ],
   "source": [
    "df_yield.tail()"
   ]
  },
  {
   "cell_type": "code",
   "execution_count": 103,
   "metadata": {},
   "outputs": [
    {
     "data": {
      "text/html": [
       "<div>\n",
       "<style scoped>\n",
       "    .dataframe tbody tr th:only-of-type {\n",
       "        vertical-align: middle;\n",
       "    }\n",
       "\n",
       "    .dataframe tbody tr th {\n",
       "        vertical-align: top;\n",
       "    }\n",
       "\n",
       "    .dataframe thead th {\n",
       "        text-align: right;\n",
       "    }\n",
       "</style>\n",
       "<table border=\"1\" class=\"dataframe\">\n",
       "  <thead>\n",
       "    <tr style=\"text-align: right;\">\n",
       "      <th></th>\n",
       "      <th>Area</th>\n",
       "      <th>Rainfall</th>\n",
       "      <th>Temperature</th>\n",
       "      <th>Yield</th>\n",
       "    </tr>\n",
       "  </thead>\n",
       "  <tbody>\n",
       "    <tr>\n",
       "      <th>count</th>\n",
       "      <td>1328.000000</td>\n",
       "      <td>1328.000000</td>\n",
       "      <td>1328.000000</td>\n",
       "      <td>1328.000000</td>\n",
       "    </tr>\n",
       "    <tr>\n",
       "      <th>mean</th>\n",
       "      <td>64171.179970</td>\n",
       "      <td>88.197466</td>\n",
       "      <td>24.976301</td>\n",
       "      <td>49192.308735</td>\n",
       "    </tr>\n",
       "    <tr>\n",
       "      <th>std</th>\n",
       "      <td>109386.821017</td>\n",
       "      <td>139.435230</td>\n",
       "      <td>1.576876</td>\n",
       "      <td>63837.380980</td>\n",
       "    </tr>\n",
       "    <tr>\n",
       "      <th>min</th>\n",
       "      <td>2.000000</td>\n",
       "      <td>0.791600</td>\n",
       "      <td>22.312400</td>\n",
       "      <td>1.000000</td>\n",
       "    </tr>\n",
       "    <tr>\n",
       "      <th>25%</th>\n",
       "      <td>6000.000000</td>\n",
       "      <td>13.978800</td>\n",
       "      <td>23.941700</td>\n",
       "      <td>3075.000000</td>\n",
       "    </tr>\n",
       "    <tr>\n",
       "      <th>50%</th>\n",
       "      <td>25700.000000</td>\n",
       "      <td>30.825100</td>\n",
       "      <td>24.561000</td>\n",
       "      <td>25400.000000</td>\n",
       "    </tr>\n",
       "    <tr>\n",
       "      <th>75%</th>\n",
       "      <td>64475.000000</td>\n",
       "      <td>90.368500</td>\n",
       "      <td>25.962500</td>\n",
       "      <td>69125.000000</td>\n",
       "    </tr>\n",
       "    <tr>\n",
       "      <th>max</th>\n",
       "      <td>726300.000000</td>\n",
       "      <td>987.536000</td>\n",
       "      <td>32.000000</td>\n",
       "      <td>406000.000000</td>\n",
       "    </tr>\n",
       "  </tbody>\n",
       "</table>\n",
       "</div>"
      ],
      "text/plain": [
       "                Area     Rainfall  Temperature          Yield\n",
       "count    1328.000000  1328.000000  1328.000000    1328.000000\n",
       "mean    64171.179970    88.197466    24.976301   49192.308735\n",
       "std    109386.821017   139.435230     1.576876   63837.380980\n",
       "min         2.000000     0.791600    22.312400       1.000000\n",
       "25%      6000.000000    13.978800    23.941700    3075.000000\n",
       "50%     25700.000000    30.825100    24.561000   25400.000000\n",
       "75%     64475.000000    90.368500    25.962500   69125.000000\n",
       "max    726300.000000   987.536000    32.000000  406000.000000"
      ]
     },
     "execution_count": 103,
     "metadata": {},
     "output_type": "execute_result"
    }
   ],
   "source": [
    "df_yield.describe()"
   ]
  },
  {
   "cell_type": "code",
   "execution_count": 104,
   "metadata": {},
   "outputs": [
    {
     "name": "stdout",
     "output_type": "stream",
     "text": [
      "<class 'pandas.core.frame.DataFrame'>\n",
      "RangeIndex: 1328 entries, 0 to 1327\n",
      "Data columns (total 8 columns):\n",
      " #   Column       Non-Null Count  Dtype  \n",
      "---  ------       --------------  -----  \n",
      " 0   State_Name   1328 non-null   object \n",
      " 1   District     1328 non-null   object \n",
      " 2   Crop         1328 non-null   object \n",
      " 3   Season       1328 non-null   object \n",
      " 4   Area         1328 non-null   int64  \n",
      " 5   Rainfall     1328 non-null   float64\n",
      " 6   Temperature  1328 non-null   float64\n",
      " 7   Yield        1328 non-null   int64  \n",
      "dtypes: float64(2), int64(2), object(4)\n",
      "memory usage: 83.1+ KB\n"
     ]
    }
   ],
   "source": [
    "df_yield.info()"
   ]
  },
  {
   "cell_type": "code",
   "execution_count": 105,
   "metadata": {},
   "outputs": [
    {
     "data": {
      "text/plain": [
       "State_Name     0\n",
       "District       0\n",
       "Crop           0\n",
       "Season         0\n",
       "Area           0\n",
       "Rainfall       0\n",
       "Temperature    0\n",
       "Yield          0\n",
       "dtype: int64"
      ]
     },
     "execution_count": 105,
     "metadata": {},
     "output_type": "execute_result"
    }
   ],
   "source": [
    "df_yield.isnull().sum()"
   ]
  },
  {
   "cell_type": "code",
   "execution_count": 106,
   "metadata": {},
   "outputs": [
    {
     "data": {
      "text/html": [
       "<div>\n",
       "<style scoped>\n",
       "    .dataframe tbody tr th:only-of-type {\n",
       "        vertical-align: middle;\n",
       "    }\n",
       "\n",
       "    .dataframe tbody tr th {\n",
       "        vertical-align: top;\n",
       "    }\n",
       "\n",
       "    .dataframe thead th {\n",
       "        text-align: right;\n",
       "    }\n",
       "</style>\n",
       "<table border=\"1\" class=\"dataframe\">\n",
       "  <thead>\n",
       "    <tr style=\"text-align: right;\">\n",
       "      <th></th>\n",
       "      <th>State_Name</th>\n",
       "      <th>District</th>\n",
       "      <th>Season</th>\n",
       "      <th>Area</th>\n",
       "      <th>Rainfall</th>\n",
       "      <th>Temperature</th>\n",
       "      <th>Yield</th>\n",
       "    </tr>\n",
       "    <tr>\n",
       "      <th>Crop</th>\n",
       "      <th></th>\n",
       "      <th></th>\n",
       "      <th></th>\n",
       "      <th></th>\n",
       "      <th></th>\n",
       "      <th></th>\n",
       "      <th></th>\n",
       "    </tr>\n",
       "  </thead>\n",
       "  <tbody>\n",
       "    <tr>\n",
       "      <th>Bajra</th>\n",
       "      <td>386</td>\n",
       "      <td>386</td>\n",
       "      <td>386</td>\n",
       "      <td>386</td>\n",
       "      <td>386</td>\n",
       "      <td>386</td>\n",
       "      <td>386</td>\n",
       "    </tr>\n",
       "    <tr>\n",
       "      <th>Jowar</th>\n",
       "      <td>441</td>\n",
       "      <td>441</td>\n",
       "      <td>441</td>\n",
       "      <td>441</td>\n",
       "      <td>441</td>\n",
       "      <td>441</td>\n",
       "      <td>441</td>\n",
       "    </tr>\n",
       "    <tr>\n",
       "      <th>Wheat</th>\n",
       "      <td>501</td>\n",
       "      <td>501</td>\n",
       "      <td>501</td>\n",
       "      <td>501</td>\n",
       "      <td>501</td>\n",
       "      <td>501</td>\n",
       "      <td>501</td>\n",
       "    </tr>\n",
       "  </tbody>\n",
       "</table>\n",
       "</div>"
      ],
      "text/plain": [
       "       State_Name  District  Season  Area  Rainfall  Temperature  Yield\n",
       "Crop                                                                   \n",
       "Bajra         386       386     386   386       386          386    386\n",
       "Jowar         441       441     441   441       441          441    441\n",
       "Wheat         501       501     501   501       501          501    501"
      ]
     },
     "execution_count": 106,
     "metadata": {},
     "output_type": "execute_result"
    }
   ],
   "source": [
    "df_yield.groupby('Crop').count()"
   ]
  },
  {
   "cell_type": "code",
   "execution_count": 107,
   "metadata": {},
   "outputs": [
    {
     "data": {
      "text/plain": [
       "30"
      ]
     },
     "execution_count": 107,
     "metadata": {},
     "output_type": "execute_result"
    }
   ],
   "source": [
    "df_yield['District'].nunique()"
   ]
  },
  {
   "cell_type": "code",
   "execution_count": 108,
   "metadata": {},
   "outputs": [
    {
     "data": {
      "text/plain": [
       "District\n",
       "AHMEDNAGAR    8257292\n",
       "PUNE          6153487\n",
       "SOLAPUR       5622409\n",
       "NASHIK        5186035\n",
       "BEED          4912125\n",
       "AURANGABAD    4375035\n",
       "SATARA        3315726\n",
       "OSMANABAD     3009153\n",
       "JALGAON       2951584\n",
       "DHULE         2933695\n",
       "Name: Yield, dtype: int64"
      ]
     },
     "execution_count": 108,
     "metadata": {},
     "output_type": "execute_result"
    }
   ],
   "source": [
    "df_yield.groupby(['District'],sort=True)['Yield'].sum().nlargest(10)"
   ]
  },
  {
   "cell_type": "code",
   "execution_count": 109,
   "metadata": {},
   "outputs": [
    {
     "data": {
      "text/plain": [
       "Crop   District  \n",
       "Jowar  SOLAPUR       4408415\n",
       "       AHMEDNAGAR    3505040\n",
       "Bajra  NASHIK        3423195\n",
       "Jowar  PUNE          3310455\n",
       "Wheat  AHMEDNAGAR    2404011\n",
       "Jowar  OSMANABAD     2389905\n",
       "Bajra  AHMEDNAGAR    2348241\n",
       "Jowar  BEED          2191563\n",
       "Bajra  DHULE         1962191\n",
       "       BEED          1906265\n",
       "Name: Yield, dtype: int64"
      ]
     },
     "execution_count": 109,
     "metadata": {},
     "output_type": "execute_result"
    }
   ],
   "source": [
    "df_yield.groupby(['Crop','District'],sort=True)['Yield'].sum().nlargest(10)"
   ]
  },
  {
   "cell_type": "code",
   "execution_count": 110,
   "metadata": {},
   "outputs": [],
   "source": [
    "import sklearn\n",
    "import seaborn as sns\n",
    "import matplotlib.pyplot as plt"
   ]
  },
  {
   "cell_type": "code",
   "execution_count": 111,
   "metadata": {},
   "outputs": [
    {
     "data": {
      "image/png": "[encoded data removed]",
      "text/plain": [
       "<Figure size 792x648 with 2 Axes>"
      ]
     },
     "metadata": {
      "needs_background": "light"
     },
     "output_type": "display_data"
    }
   ],
   "source": [
    "correlation_data=df_yield.select_dtypes(include=[np.number]).corr()\n",
    "\n",
    "mask = np.zeros_like(correlation_data, dtype=np.bool)\n",
    "mask[np.triu_indices_from(mask)] = True\n",
    "\n",
    "f, ax = plt.subplots(figsize=(11, 9))\n",
    "\n",
    "# Generate a custom diverging colormap\n",
    "cmap = sns.palette=\"vlag\"\n",
    "\n",
    "# Draw the heatmap with the mask and correct aspect ratio\n",
    "sns.heatmap(correlation_data, mask=mask, cmap=cmap, vmax=.3, center=0,\n",
    "            square=True, linewidths=.5, cbar_kws={\"shrink\": .5},annot=True,);\n"
   ]
  },
  {
   "cell_type": "code",
   "execution_count": 112,
   "metadata": {},
   "outputs": [
    {
     "data": {
      "text/html": [
       "<div>\n",
       "<style scoped>\n",
       "    .dataframe tbody tr th:only-of-type {\n",
       "        vertical-align: middle;\n",
       "    }\n",
       "\n",
       "    .dataframe tbody tr th {\n",
       "        vertical-align: top;\n",
       "    }\n",
       "\n",
       "    .dataframe thead th {\n",
       "        text-align: right;\n",
       "    }\n",
       "</style>\n",
       "<table border=\"1\" class=\"dataframe\">\n",
       "  <thead>\n",
       "    <tr style=\"text-align: right;\">\n",
       "      <th></th>\n",
       "      <th>State_Name</th>\n",
       "      <th>District</th>\n",
       "      <th>Crop</th>\n",
       "      <th>Season</th>\n",
       "      <th>Area</th>\n",
       "      <th>Rainfall</th>\n",
       "      <th>Temperature</th>\n",
       "      <th>Yield</th>\n",
       "    </tr>\n",
       "  </thead>\n",
       "  <tbody>\n",
       "    <tr>\n",
       "      <th>0</th>\n",
       "      <td>Maharashtra</td>\n",
       "      <td>AHMEDNAGAR</td>\n",
       "      <td>Jowar</td>\n",
       "      <td>Rabi</td>\n",
       "      <td>598400</td>\n",
       "      <td>42.3484</td>\n",
       "      <td>24.2430</td>\n",
       "      <td>217000</td>\n",
       "    </tr>\n",
       "    <tr>\n",
       "      <th>1</th>\n",
       "      <td>Maharashtra</td>\n",
       "      <td>AHMEDNAGAR</td>\n",
       "      <td>Jowar</td>\n",
       "      <td>Rabi</td>\n",
       "      <td>453200</td>\n",
       "      <td>8.7838</td>\n",
       "      <td>23.1000</td>\n",
       "      <td>227900</td>\n",
       "    </tr>\n",
       "    <tr>\n",
       "      <th>2</th>\n",
       "      <td>Maharashtra</td>\n",
       "      <td>AHMEDNAGAR</td>\n",
       "      <td>Jowar</td>\n",
       "      <td>Rabi</td>\n",
       "      <td>498300</td>\n",
       "      <td>39.5078</td>\n",
       "      <td>22.8118</td>\n",
       "      <td>190900</td>\n",
       "    </tr>\n",
       "    <tr>\n",
       "      <th>3</th>\n",
       "      <td>Maharashtra</td>\n",
       "      <td>AHMEDNAGAR</td>\n",
       "      <td>Jowar</td>\n",
       "      <td>Rabi</td>\n",
       "      <td>518700</td>\n",
       "      <td>9.2558</td>\n",
       "      <td>23.2746</td>\n",
       "      <td>160800</td>\n",
       "    </tr>\n",
       "    <tr>\n",
       "      <th>4</th>\n",
       "      <td>Maharashtra</td>\n",
       "      <td>AHMEDNAGAR</td>\n",
       "      <td>Jowar</td>\n",
       "      <td>Rabi</td>\n",
       "      <td>528900</td>\n",
       "      <td>4.0668</td>\n",
       "      <td>23.5674</td>\n",
       "      <td>175000</td>\n",
       "    </tr>\n",
       "  </tbody>\n",
       "</table>\n",
       "</div>"
      ],
      "text/plain": [
       "    State_Name    District   Crop Season    Area  Rainfall  Temperature  \\\n",
       "0  Maharashtra  AHMEDNAGAR  Jowar   Rabi  598400   42.3484      24.2430   \n",
       "1  Maharashtra  AHMEDNAGAR  Jowar   Rabi  453200    8.7838      23.1000   \n",
       "2  Maharashtra  AHMEDNAGAR  Jowar   Rabi  498300   39.5078      22.8118   \n",
       "3  Maharashtra  AHMEDNAGAR  Jowar   Rabi  518700    9.2558      23.2746   \n",
       "4  Maharashtra  AHMEDNAGAR  Jowar   Rabi  528900    4.0668      23.5674   \n",
       "\n",
       "    Yield  \n",
       "0  217000  \n",
       "1  227900  \n",
       "2  190900  \n",
       "3  160800  \n",
       "4  175000  "
      ]
     },
     "execution_count": 112,
     "metadata": {},
     "output_type": "execute_result"
    }
   ],
   "source": [
    "df_yield.head()\n"
   ]
  },
  {
   "cell_type": "code",
   "execution_count": 114,
   "metadata": {},
   "outputs": [
    {
     "name": "stdout",
     "output_type": "stream",
     "text": [
      "      State_Name  District  Crop  Season    Area  Rainfall  Temperature  \\\n",
      "0              0         0     1       1  598400   42.3484     24.24300   \n",
      "1              0         0     1       1  453200    8.7838     23.10000   \n",
      "2              0         0     1       1  498300   39.5078     22.81180   \n",
      "3              0         0     1       1  518700    9.2558     23.27460   \n",
      "4              0         0     1       1  528900    4.0668     23.56740   \n",
      "...          ...       ...   ...     ...     ...       ...          ...   \n",
      "1323           0        29     2       1   41700   27.4774     24.58152   \n",
      "1324           0        29     2       1   34100   23.9894     24.68200   \n",
      "1325           0        29     2       1   36100   23.9894     24.78900   \n",
      "1326           0        29     2       1   34500    3.5930     24.85400   \n",
      "1327           0        29     2       1   29100   17.4454     24.64700   \n",
      "\n",
      "       Yield  \n",
      "0     217000  \n",
      "1     227900  \n",
      "2     190900  \n",
      "3     160800  \n",
      "4     175000  \n",
      "...      ...  \n",
      "1323   61400  \n",
      "1324   58500  \n",
      "1325   64600  \n",
      "1326   30700  \n",
      "1327   26800  \n",
      "\n",
      "[1328 rows x 8 columns]\n"
     ]
    }
   ],
   "source": [
    "from sklearn import preprocessing\n",
    "le = preprocessing.LabelEncoder()\n",
    "df_yield['State_Name'] = le.fit_transform(df_yield['State_Name'])\n",
    "df_yield['District'] = le.fit_transform(df_yield['District'])\n",
    "df_yield['Season'] = le.fit_transform(df_yield['Season'])\n",
    "df_yield['Crop'] = le.fit_transform(df_yield['Crop'])\n",
    "print(df_yield)"
   ]
  },
  {
   "cell_type": "code",
   "execution_count": 115,
   "metadata": {},
   "outputs": [],
   "source": [
    "y = df_yield[\"Yield\"]\n",
    "X = df_yield.drop('Yield',axis=1)\n",
    "from sklearn.model_selection import train_test_split\n",
    "X_train, X_test, y_train, y_test = train_test_split(X, y, test_size=0.20,random_state = 42)"
   ]
  },
  {
   "cell_type": "code",
   "execution_count": 116,
   "metadata": {},
   "outputs": [],
   "source": [
    "from sklearn.metrics import r2_score\n",
    "def compare_models(model):\n",
    "    model_name = model.__class__.__name__\n",
    "    fit=model.fit(X_train,y_train)\n",
    "    y_pred=fit.predict(X_test) \n",
    "    r2=r2_score(y_test,y_pred)\n",
    "    return([model_name,r2])"
   ]
  },
  {
   "cell_type": "code",
   "execution_count": 117,
   "metadata": {},
   "outputs": [],
   "source": [
    "from sklearn.ensemble import RandomForestRegressor\n",
    "from sklearn.ensemble import GradientBoostingRegressor\n",
    "from sklearn import svm\n",
    "from sklearn.tree import DecisionTreeRegressor\n",
    "\n",
    "models = [\n",
    "    GradientBoostingRegressor(n_estimators=200, max_depth=3, random_state=0),\n",
    "     RandomForestRegressor(n_estimators=200, max_depth=3, random_state=0),\n",
    "    svm.SVR(),\n",
    "   DecisionTreeRegressor()\n",
    "]"
   ]
  },
  {
   "cell_type": "code",
   "execution_count": 118,
   "metadata": {},
   "outputs": [],
   "source": [
    "model_train=list(map(compare_models,models))"
   ]
  },
  {
   "cell_type": "code",
   "execution_count": 165,
   "metadata": {},
   "outputs": [
    {
     "name": "stdout",
     "output_type": "stream",
     "text": [
      "['GradientBoostingRegressor', 0.8294531178502802]\n",
      "['RandomForestRegressor', 0.8188530090302677]\n",
      "['SVR', -0.10183450463683674]\n",
      "['DecisionTreeRegressor', 0.7328729097023956]\n"
     ]
    }
   ],
   "source": [
    "print(*model_train,sep=\"\\n\")\n"
   ]
  },
  {
   "cell_type": "code",
   "execution_count": 167,
   "metadata": {},
   "outputs": [
    {
     "data": {
      "image/png": "[encoded data removed]",
      "text/plain": [
       "<Figure size 432x288 with 1 Axes>"
      ]
     },
     "metadata": {
      "needs_background": "light"
     },
     "output_type": "display_data"
    }
   ],
   "source": [
    "fig = plt.figure()\n",
    "ax = fig.add_axes([0,0,1,1])\n",
    "algorithms = ['GradientBoostingRegressor', 'RandomForestRegressor', 'SVR', 'DecisionTreeRegressor']\n",
    "accuracies = [0.8294531178502802,0.8188530090302677,-0.10183450463683674,0.7328729097023956]\n",
    "ax.bar(algorithms,accuracies)\n",
    "plt.show()"
   ]
  },
  {
   "cell_type": "code",
   "execution_count": 137,
   "metadata": {},
   "outputs": [
    {
     "name": "stdout",
     "output_type": "stream",
     "text": [
      "XGBoost validation MAE =  12513.072310554275\n",
      "R2 score: 0.7818164018535885\n"
     ]
    }
   ],
   "source": [
    "from sklearn.ensemble import GradientBoostingRegressor\n",
    "from sklearn.metrics import mean_absolute_error \n",
    "XGBModel = GradientBoostingRegressor()\n",
    "m1=XGBModel.fit(X_train,y_train)\n",
    "\n",
    "# Get the mean absolute error on the validation data :\n",
    "XGBpredictions = XGBModel.predict(X_test)\n",
    "MAE = mean_absolute_error(y_test , XGBpredictions)\n",
    "print('XGBoost validation MAE = ',MAE)\n",
    "print(\"R2 score:\",r2_score(XGBpredictions,y_test))"
   ]
  },
  {
   "cell_type": "code",
   "execution_count": 168,
   "metadata": {},
   "outputs": [],
   "source": [
    "varimp= {'imp':model.feature_importances_,'names':df_yield.columns[df_yield.columns!=\"Yield\"]}"
   ]
  },
  {
   "cell_type": "code",
   "execution_count": 169,
   "metadata": {},
   "outputs": [
    {
     "data": {
      "image/png": "[encoded data removed]",
      "text/plain": [
       "<Figure size 1202.4x595.44 with 1 Axes>"
      ]
     },
     "metadata": {
      "needs_background": "light"
     },
     "output_type": "display_data"
    }
   ],
   "source": [
    "#Boxplot that shows yield for each item \n",
    "a4_dims = (16.7, 8.27)\n",
    "\n",
    "fig, ax = plt.subplots(figsize=a4_dims)\n",
    "sns.boxplot(x=\"Crop\",y=\"Yield\",palette=\"vlag\",data=df_yield,ax=ax);"
   ]
  },
  {
   "cell_type": "code",
   "execution_count": 170,
   "metadata": {},
   "outputs": [],
   "source": [
    "import pickle\n",
    "filename = 'yield_modelpkgbr__.pkl'\n",
    "pickle.dump(m1, open(filename, 'wb'))"
   ]
  },
  {
   "cell_type": "code",
   "execution_count": 171,
   "metadata": {},
   "outputs": [],
   "source": [
    "import joblib\n",
    "import pickle\n",
    "clf = pickle.load(open('yield_modelpkgbr__.pkl', 'rb'))\n",
    "\n",
    "def predict():\n",
    "\n",
    "\n",
    "        pred_args = [ 0     ,    0  ,   1  ,     1 , 34009 ,  45.3484   ,  19.24300  ]\n",
    "        mul_reg = open('yield_modelpkgbr__.pkl','rb')\n",
    "        ml_model = joblib.load(mul_reg)\n",
    "        model_prediction = ml_model.predict([pred_args])\n",
    "        return model_prediction\n",
    "\n"
   ]
  },
  {
   "cell_type": "code",
   "execution_count": 172,
   "metadata": {},
   "outputs": [
    {
     "data": {
      "text/plain": [
       "array([47230.1659021])"
      ]
     },
     "execution_count": 172,
     "metadata": {},
     "output_type": "execute_result"
    }
   ],
   "source": [
    "predict()"
   ]
  },
  {
   "cell_type": "code",
   "execution_count": null,
   "metadata": {},
   "outputs": [],
   "source": []
  }
 ],
 "metadata": {
  "colab": {
   "name": "heart_attack_prediction.ipynb",
   "provenance": []
  },
  "kernelspec": {
   "display_name": "Python 3",
   "language": "python",
   "name": "python3"
  },
  "language_info": {
   "codemirror_mode": {
    "name": "ipython",
    "version": 3
   },
   "file_extension": ".py",
   "mimetype": "text/x-python",
   "name": "python",
   "nbconvert_exporter": "python",
   "pygments_lexer": "ipython3",
   "version": "3.7.7"
  }
 },
 "nbformat": 4,
 "nbformat_minor": 1
}
